{
 "cells": [
  {
   "cell_type": "markdown",
   "id": "10a82ade",
   "metadata": {},
   "source": [
    "# Alexander Image Data\n",
    "\n",
    "This plot currently shows 429 photos Alexander took between March 18th and August 10th."
   ]
  },
  {
   "cell_type": "code",
   "execution_count": 36,
   "id": "d0540c66",
   "metadata": {
    "scrolled": false
   },
   "outputs": [
    {
     "data": {
      "application/vnd.jupyter.widget-view+json": {
       "model_id": "12760c4e71ae40b3af8beb3aaa12b564",
       "version_major": 2,
       "version_minor": 0
      },
      "text/plain": [
       "HBox(children=(FigureWidget({\n",
       "    'data': [{'lat': array([39.149097, 39.149315, 39.149097, ..., 39.14909 , 39.…"
      ]
     },
     "metadata": {},
     "output_type": "display_data"
    }
   ],
   "source": [
    "from datetime import datetime\n",
    "\n",
    "import pytz\n",
    "\n",
    "from ipywidgets import HTML, HBox\n",
    "from plotly import graph_objects as go\n",
    "import plotly.express as px\n",
    "import pandas as pd\n",
    "\n",
    "df = pd.read_csv(\"out.csv\")\n",
    "\n",
    "\n",
    "\n",
    "def parse_file_name(file_name):\n",
    "    return file_name.split(\".\")[0].split(\"PXL_\")[1]\n",
    "\n",
    "\n",
    "class ESTLocalizer:\n",
    "\n",
    "    def __init__(self):\n",
    "        self.gmt = pytz.timezone(\"GMT\")\n",
    "        self.eastern = pytz.timezone(\"US/Eastern\")\n",
    "\n",
    "    def localize(self, stamp):\n",
    "        date = datetime.strptime(stamp[:-3], \"%Y%m%d_%H%M%S\")\n",
    "        dategmt = self.gmt.localize(date)\n",
    "        return dategmt.astimezone(self.eastern)\n",
    "\n",
    "\n",
    "\n",
    "\n",
    "def interactive_plot(df, fig, template, event=\"hover\") :\n",
    "    \"\"\"\n",
    "    Make a plot react on hover or click of a data point and update a HTML preview below it.\n",
    "    **template** Should be a string and contain placeholders like {colname} to be replaced by the value\n",
    "    of the corresponding data row.\n",
    "    \n",
    "    \"\"\"\n",
    "\n",
    "    html = HTML(\"\")\n",
    "\n",
    "    def update(trace, points, state):\n",
    "        ind = points.point_inds[0]\n",
    "        row = df.loc[ind].to_dict()\n",
    "        \n",
    "        localizer = ESTLocalizer()\n",
    "        row[\"timestamp\"] = localizer.localize(parse_file_name(row[\"fname\"]))\n",
    "        html.value = template.format(**row)\n",
    "\n",
    "    fig = go.FigureWidget(data=fig.data, layout=fig.layout)\n",
    "\n",
    "    if event == \"hover\" :\n",
    "        fig.data[0].on_hover(update)\n",
    "    else :\n",
    "        fig.data[0].on_click(update)\n",
    "\n",
    "    return HBox([fig, html])\n",
    "\n",
    "plot = go.Figure(\n",
    "    data=go.Scattergeo(\n",
    "        lon=df[\"longitude\"],\n",
    "        lat=df[\"latitude\"],\n",
    "        text=df[\"fname\"],\n",
    "    ),\n",
    ")\n",
    "plot.update_layout(\n",
    "    geo = dict(\n",
    "        scope = \"usa\",\n",
    "        showland = True,\n",
    "        landcolor = \"rgb(150, 150, 150)\",\n",
    "        showsubunits = True,\n",
    "    ),\n",
    "    height=800,\n",
    "    width=1200,\n",
    ")\n",
    "\n",
    "template = \"\"\"\n",
    "<img style='max-width: 450px;' src='./data/{fname}'>\n",
    "<p>{timestamp}</p>\n",
    "\"\"\"\n",
    "interactive_plot(df, plot, template, event=\"on_click\")"
   ]
  },
  {
   "cell_type": "markdown",
   "id": "a5ab01b6",
   "metadata": {},
   "source": [
    "It might be easier to use the zoom tool in this plot:\n"
   ]
  },
  {
   "cell_type": "code",
   "execution_count": 34,
   "id": "c9942899",
   "metadata": {
    "scrolled": true
   },
   "outputs": [
    {
     "data": {
      "application/vnd.jupyter.widget-view+json": {
       "model_id": "0066127d40a0436d819b2b697cbc3e8b",
       "version_major": 2,
       "version_minor": 0
      },
      "text/plain": [
       "HBox(children=(FigureWidget({\n",
       "    'data': [{'hovertemplate': 'longitude=%{x}<br>latitude=%{y}<extra></extra>',…"
      ]
     },
     "metadata": {},
     "output_type": "display_data"
    }
   ],
   "source": [
    "plot2 = px.scatter(\n",
    "    df,\n",
    "    x=\"longitude\",\n",
    "    y=\"latitude\",\n",
    "    height=800,\n",
    "    width=1200,\n",
    ")\n",
    "interactive_plot(df, plot2, template, event=\"on_click\")"
   ]
  }
 ],
 "metadata": {
  "kernelspec": {
   "display_name": "Python 3 (ipykernel)",
   "language": "python",
   "name": "python3"
  },
  "language_info": {
   "codemirror_mode": {
    "name": "ipython",
    "version": 3
   },
   "file_extension": ".py",
   "mimetype": "text/x-python",
   "name": "python",
   "nbconvert_exporter": "python",
   "pygments_lexer": "ipython3",
   "version": "3.8.8"
  }
 },
 "nbformat": 4,
 "nbformat_minor": 5
}
